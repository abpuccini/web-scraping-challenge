{
 "cells": [
  {
   "cell_type": "code",
   "execution_count": 1,
   "metadata": {},
   "outputs": [],
   "source": [
    "# Dependencies\n",
    "from bs4 import BeautifulSoup as bs\n",
    "from splinter import Browser\n",
    "import pandas as pd"
   ]
  },
  {
   "cell_type": "code",
   "execution_count": 2,
   "metadata": {},
   "outputs": [
    {
     "name": "stdout",
     "output_type": "stream",
     "text": [
      "/usr/local/bin/chromedriver\r\n"
     ]
    }
   ],
   "source": [
    "!which chromedriver"
   ]
  },
  {
   "cell_type": "code",
   "execution_count": 3,
   "metadata": {},
   "outputs": [],
   "source": [
    "executable_path = {'executable_path': '/usr/local/bin/chromedriver'}\n",
    "browser = Browser('chrome', **executable_path, headless=False)"
   ]
  },
  {
   "cell_type": "markdown",
   "metadata": {},
   "source": [
    "## NASA Mars News"
   ]
  },
  {
   "cell_type": "code",
   "execution_count": 4,
   "metadata": {},
   "outputs": [],
   "source": [
    "# URL of page to be scraped\n",
    "url = 'https://mars.nasa.gov/news/'\n",
    "browser.visit(url)"
   ]
  },
  {
   "cell_type": "code",
   "execution_count": 5,
   "metadata": {},
   "outputs": [],
   "source": [
    "# Scrape the Mars website \n",
    "html = browser.html\n",
    "soup = bs(html, 'html.parser')"
   ]
  },
  {
   "cell_type": "code",
   "execution_count": 6,
   "metadata": {},
   "outputs": [],
   "source": [
    "# Retrieve the parent divs for class 'list_text'\n",
    "results = soup.find_all('div', class_='list_text')"
   ]
  },
  {
   "cell_type": "code",
   "execution_count": 7,
   "metadata": {},
   "outputs": [
    {
     "name": "stdout",
     "output_type": "stream",
     "text": [
      "----------------------------------------\n",
      "Hear Audio From NASA's Perseverance As It Travels Through Deep Space\n",
      "The first to be rigged with microphones, the agency's latest Mars rover picked up the subtle sounds of its own inner workings during interplanetary flight.\n",
      "----------------------------------------\n",
      "Mars Is Getting a New Robotic Meteorologist\n",
      "Sensors on NASA's Perseverance will help prepare for future human exploration by taking weather measurements and studying dust particles.\n",
      "----------------------------------------\n",
      "Heat and Dust Help Launch Martian Water Into Space, Scientists Find\n",
      "Scientists using an instrument aboard NASA’s Mars Atmosphere and Volatile EvolutioN, or MAVEN, spacecraft have discovered that water vapor near the surface of the Red Planet is lofted higher into the atmosphere than anyone expected was possible. \n",
      "----------------------------------------\n",
      "NASA's Curiosity Takes Selfie With 'Mary Anning' on the Red Planet\n",
      "The Mars rover has drilled three samples of rock in this clay-enriched region since arriving in July.\n",
      "----------------------------------------\n",
      "Independent Review Indicates NASA Prepared for Mars Sample Return Campaign\n",
      "NASA released an independent review report Tuesday indicating the agency is well positioned for its Mars Sample Return campaign to bring pristine samples from Mars to Earth for scientific study.\n",
      "----------------------------------------\n",
      "NASA's Perseverance Rover 100 Days Out\n",
      "Mark your calendars: The agency's latest rover has only about 8,640,000 seconds to go before it touches down on the Red Planet, becoming history's next Mars car.\n",
      "----------------------------------------\n",
      "NASA's Perseverance Rover Is Midway to Mars \n",
      "Sometimes half measures can be a good thing – especially on a journey this long. The agency's latest rover only has about 146 million miles left to reach its destination.\n",
      "----------------------------------------\n",
      "Sensors on Mars 2020 Spacecraft Answer Long-Distance Call From Earth\n",
      "Instruments tailored to collect data during the descent of NASA's next rover through the Red Planet's atmosphere have been checked in flight.\n",
      "----------------------------------------\n",
      "NASA's Perseverance Rover Bringing 3D-Printed Metal Parts to Mars\n",
      "For hobbyists and makers, 3D printing expands creative possibilities; for specialized engineers, it's also key to next-generation spacecraft design.\n",
      "----------------------------------------\n",
      "NASA InSight's 'Mole' Is Out of Sight\n",
      "Now that the heat probe is just below the Martian surface, InSight's arm will scoop some additional soil on top to help it keep digging so it can take Mars' temperature.\n",
      "----------------------------------------\n",
      "NASA's Perseverance Rover Will Peer Beneath Mars' Surface \n",
      "The agency's newest rover will use the first ground-penetrating radar instrument on the Martian surface to help search for signs of past microbial life. \n",
      "----------------------------------------\n",
      "AI Is Helping Scientists Discover Fresh Craters on Mars\n",
      "It's the first time machine learning has been used to find previously unknown craters on the Red Planet.\n",
      "----------------------------------------\n",
      "NASA's New Mars Rover Is Ready for Space Lasers\n",
      "Perseverance is one of a few Mars spacecraft carrying laser retroreflectors. The devices could provide new science and safer Mars landings in the future.\n",
      "----------------------------------------\n",
      "NASA's New Mars Rover Will Use X-Rays to Hunt Fossils\n",
      "PIXL, an instrument on the end of the Perseverance rover's arm, will search for chemical fingerprints left by ancient microbes.\n",
      "----------------------------------------\n",
      "My Culture, My Voice\n",
      "In honor of Hispanic Heritage Month, Christina Hernandez, an instrument engineer on the Mars 2020 mission, talks about her childhood and journey to NASA.\n",
      "----------------------------------------\n",
      "NASA Readies Perseverance Mars Rover's Earthly Twin \n",
      "Did you know NASA's next Mars rover has a nearly identical sibling on Earth for testing? Even better, it's about to roll for the first time through a replica Martian landscape.\n",
      "----------------------------------------\n",
      "NASA Engineers Checking InSight's Weather Sensors\n",
      "An electronics issue is suspected to be preventing the sensors from sharing their data about Mars weather with the spacecraft.\n",
      "----------------------------------------\n",
      "Follow NASA's Perseverance Rover in Real Time on Its Way to Mars\n",
      "A crisply rendered web application can show you where the agency's Mars 2020 mission is right now as it makes its way to the Red Planet for a Feb. 18, 2021, landing.\n",
      "----------------------------------------\n",
      "NASA Establishes Board to Initially Review Mars Sample Return Plans\n",
      "The board will assist with analysis of current plans and goals for one of the most difficult missions humanity has ever undertaken.\n",
      "----------------------------------------\n",
      "NASA's Ingenuity Mars Helicopter Recharges Its Batteries in Flight\n",
      "Headed to the Red Planet with the Perseverance rover, the pioneering helicopter is powered up for the first time in interplanetary space as part of a systems check.\n",
      "----------------------------------------\n",
      "Celebrate Mars Reconnaissance Orbiter's Views From Above\n",
      "Marking its 15th anniversary since launch, one of the oldest spacecraft at the Red Planet has provided glimpses of dust devils, avalanches, and more.\n",
      "----------------------------------------\n",
      "NASA's MAVEN Observes Martian Night Sky Pulsing in Ultraviolet Light\n",
      "Vast areas of the Martian night sky pulse in ultraviolet light, according to images from NASA’s MAVEN spacecraft. The results are being used to illuminate complex circulation patterns in the Martian atmosphere.\n",
      "----------------------------------------\n",
      "8 Martian Postcards to Celebrate Curiosity's Landing Anniversary\n",
      "The NASA rover touched down eight years ago, on Aug. 5, 2012, and will soon be joined by a second rover, Perseverance.\n",
      "----------------------------------------\n",
      "NASA, ULA Launch Mars 2020 Perseverance Rover Mission to Red Planet\n",
      "The agency's Mars 2020 mission is on its way. It will land at Jezero Crater in about seven months, on Feb. 18, 2021. \n",
      "----------------------------------------\n",
      "NASA's Perseverance Rover Will Carry First Spacesuit Materials to Mars\n",
      "In a Q&A, spacesuit designer Amy Ross explains how five samples, including a piece of helmet visor, will be tested aboard the rover, which is targeting a July 30 launch. \n",
      "----------------------------------------\n",
      "A New Video Captures the Science of NASA's Perseverance Mars Rover\n",
      "With a targeted launch date of July 30, the next robotic scientist NASA is sending to the to the Red Planet has big ambitions.\n",
      "----------------------------------------\n",
      "NASA Invites Public to Share Excitement of Mars 2020 Perseverance Rover Launch\n",
      "There are lots of ways to participate in the historic event, which is targeted for July 30.\n",
      "----------------------------------------\n",
      "NASA's Mars Perseverance Rover Passes Flight Readiness Review\n",
      "​The agency's Mars 2020 mission has one more big prelaunch review – the Launch Readiness Review, on July 27.\n",
      "----------------------------------------\n",
      "NASA to Broadcast Mars 2020 Perseverance Launch, Prelaunch Activities\n",
      "Starting July 27, news activities will cover everything from mission engineering and science to returning samples from Mars to, of course, the launch itself.\n",
      "----------------------------------------\n",
      "6 Things to Know About NASA's Ingenuity Mars Helicopter\n",
      "The first helicopter attempting to fly on another planet is a marvel of engineering. Get up to speed with these key facts about its plans.\n",
      "----------------------------------------\n",
      "Join NASA for the Launch of the Mars 2020 Perseverance Rover\n",
      "No matter where you live, choose from a menu of activities to join NASA as we \"Countdown to Mars\" and launch the Perseverance rover to the Red Planet.\n",
      "----------------------------------------\n",
      "NASA's Perseverance Rover Attached to Atlas V Rocket\n",
      "Ready for its launch later in the month, the Mars-bound rover will touch terra firma no more.\n",
      "----------------------------------------\n",
      "7 Things to Know About the Mars 2020 Perseverance Rover Mission\n",
      "NASA's next rover to the Red Planet is slated to launch no earlier than July 30. These highlights will get you up to speed on the ambitious mission.\n",
      "----------------------------------------\n",
      "NASA's InSight Flexes Its Arm While Its 'Mole' Hits Pause\n",
      "Now that the lander's robotic arm has helped the mole get underground, it will resume science activities that have been on hold.\n",
      "----------------------------------------\n",
      "Curiosity Mars Rover's Summer Road Trip Has Begun\n",
      "After more than a year in the \"clay-bearing unit,\" Curiosity is making a mile-long journey around some deep sand so that it can explore higher up Mount Sharp.\n",
      "----------------------------------------\n",
      "How NASA's Mars Helicopter Will Reach the Red Planet's Surface\n",
      "The small craft will seek to prove that powered, controlled flight is possible on another planet. But just getting it onto the surface of Mars will take a whole lot of ingenuity.\n",
      "----------------------------------------\n",
      "The Launch Is Approaching for NASA's Next Mars Rover, Perseverance\n",
      "The Red Planet's surface has been visited by eight NASA spacecraft. The ninth will be the first that includes a roundtrip ticket in its flight plan. \n",
      "----------------------------------------\n",
      "NASA to Hold Mars 2020 Perseverance Rover Launch Briefing\n",
      "Learn more about the agency's next Red Planet mission during a live event on June 17.\n",
      "----------------------------------------\n",
      "While Stargazing on Mars, NASA's Curiosity Rover Spots Earth and Venus\n",
      "This new portrait of the Red Planet's neighbors was taken during a time when there's more dust in the air on Mars.\n",
      "----------------------------------------\n",
      "NASA's Mars Rover Drivers Need Your Help\n",
      "Using an online tool to label Martian terrain types, you can train an artificial intelligence algorithm that could improve the way engineers guide the Curiosity rover.\n"
     ]
    }
   ],
   "source": [
    "# Initialize sets of titles and paragraphs\n",
    "titles = []\n",
    "paragraphs = []\n",
    "\n",
    "# for loop to scrape to results\n",
    "for result in results:\n",
    "    # scrape the news titles\n",
    "    if result.a:\n",
    "        title = result.a.text\n",
    "        titles.append(title)\n",
    "        \n",
    "    # scrape the news paragraphs\n",
    "    paragarph = result.find('div', class_=\"article_teaser_body\").text\n",
    "    paragraphs.append(paragarph)\n",
    "    \n",
    "    # print Mars news data\n",
    "    print(f'----------------------------------------')\n",
    "    print(title)\n",
    "    print(paragarph)\n",
    "    "
   ]
  },
  {
   "cell_type": "code",
   "execution_count": 8,
   "metadata": {},
   "outputs": [
    {
     "name": "stdout",
     "output_type": "stream",
     "text": [
      "The latest news title: Hear Audio From NASA's Perseverance As It Travels Through Deep Space \n",
      "Paragraph text: The first to be rigged with microphones, the agency's latest Mars rover picked up the subtle sounds of its own inner workings during interplanetary flight.\n"
     ]
    }
   ],
   "source": [
    "# The latest News Title and Paragraph Text\n",
    "news_title = titles[0]\n",
    "news_p = paragraphs[0]\n",
    "print(f'The latest news title: {news_title} \\nParagraph text: {news_p}')"
   ]
  },
  {
   "cell_type": "markdown",
   "metadata": {},
   "source": [
    "## JPL Mars Space Images - Featured Image"
   ]
  },
  {
   "cell_type": "code",
   "execution_count": 9,
   "metadata": {},
   "outputs": [],
   "source": [
    "# Visit URL\n",
    "img_url = 'https://www.jpl.nasa.gov/spaceimages/?search=&category=Mars'\n",
    "browser.visit(img_url)"
   ]
  },
  {
   "cell_type": "code",
   "execution_count": 10,
   "metadata": {},
   "outputs": [],
   "source": [
    "# Find the full image botton and click\n",
    "img_elem = browser.find_by_id('full_image')\n",
    "img_elem.click()"
   ]
  },
  {
   "cell_type": "code",
   "execution_count": 11,
   "metadata": {},
   "outputs": [],
   "source": [
    "# Find the more info button and click that\n",
    "browser.is_element_present_by_text('more info', wait_time=3)\n",
    "more_info_elem = browser.links.find_by_partial_text('more info')\n",
    "more_info_elem.click()"
   ]
  },
  {
   "cell_type": "code",
   "execution_count": 12,
   "metadata": {},
   "outputs": [],
   "source": [
    "# Parse the html result with soup\n",
    "img_html = browser.html\n",
    "img_soup = bs(img_html, 'html.parser')"
   ]
  },
  {
   "cell_type": "code",
   "execution_count": 13,
   "metadata": {},
   "outputs": [
    {
     "data": {
      "text/plain": [
       "'/spaceimages/images/largesize/PIA17200_hires.jpg'"
      ]
     },
     "execution_count": 13,
     "metadata": {},
     "output_type": "execute_result"
    }
   ],
   "source": [
    "# find the relative image url\n",
    "img_url_rel = img_soup.select_one('figure.lede a img').get(\"src\")\n",
    "img_url_rel"
   ]
  },
  {
   "cell_type": "code",
   "execution_count": 14,
   "metadata": {},
   "outputs": [
    {
     "data": {
      "text/plain": [
       "'https://www.jpl.nasa.gov/spaceimages/images/largesize/PIA17200_hires.jpg'"
      ]
     },
     "execution_count": 14,
     "metadata": {},
     "output_type": "execute_result"
    }
   ],
   "source": [
    "# Use the base url to create an absolute url\n",
    "img_url = f'https://www.jpl.nasa.gov{img_url_rel}'\n",
    "img_url"
   ]
  },
  {
   "cell_type": "markdown",
   "metadata": {},
   "source": [
    "## Mars Facts"
   ]
  },
  {
   "cell_type": "code",
   "execution_count": 15,
   "metadata": {},
   "outputs": [
    {
     "data": {
      "text/html": [
       "<div>\n",
       "<style scoped>\n",
       "    .dataframe tbody tr th:only-of-type {\n",
       "        vertical-align: middle;\n",
       "    }\n",
       "\n",
       "    .dataframe tbody tr th {\n",
       "        vertical-align: top;\n",
       "    }\n",
       "\n",
       "    .dataframe thead th {\n",
       "        text-align: right;\n",
       "    }\n",
       "</style>\n",
       "<table border=\"1\" class=\"dataframe\">\n",
       "  <thead>\n",
       "    <tr style=\"text-align: right;\">\n",
       "      <th></th>\n",
       "      <th>Mars</th>\n",
       "    </tr>\n",
       "    <tr>\n",
       "      <th></th>\n",
       "      <th></th>\n",
       "    </tr>\n",
       "  </thead>\n",
       "  <tbody>\n",
       "    <tr>\n",
       "      <th>Equatorial Diameter:</th>\n",
       "      <td>6,792 km</td>\n",
       "    </tr>\n",
       "    <tr>\n",
       "      <th>Polar Diameter:</th>\n",
       "      <td>6,752 km</td>\n",
       "    </tr>\n",
       "    <tr>\n",
       "      <th>Mass:</th>\n",
       "      <td>6.39 × 10^23 kg (0.11 Earths)</td>\n",
       "    </tr>\n",
       "    <tr>\n",
       "      <th>Moons:</th>\n",
       "      <td>2 (Phobos &amp; Deimos)</td>\n",
       "    </tr>\n",
       "    <tr>\n",
       "      <th>Orbit Distance:</th>\n",
       "      <td>227,943,824 km (1.38 AU)</td>\n",
       "    </tr>\n",
       "    <tr>\n",
       "      <th>Orbit Period:</th>\n",
       "      <td>687 days (1.9 years)</td>\n",
       "    </tr>\n",
       "    <tr>\n",
       "      <th>Surface Temperature:</th>\n",
       "      <td>-87 to -5 °C</td>\n",
       "    </tr>\n",
       "    <tr>\n",
       "      <th>First Record:</th>\n",
       "      <td>2nd millennium BC</td>\n",
       "    </tr>\n",
       "    <tr>\n",
       "      <th>Recorded By:</th>\n",
       "      <td>Egyptian astronomers</td>\n",
       "    </tr>\n",
       "  </tbody>\n",
       "</table>\n",
       "</div>"
      ],
      "text/plain": [
       "                                               Mars\n",
       "                                                   \n",
       "Equatorial Diameter:                       6,792 km\n",
       "Polar Diameter:                            6,752 km\n",
       "Mass:                 6.39 × 10^23 kg (0.11 Earths)\n",
       "Moons:                          2 (Phobos & Deimos)\n",
       "Orbit Distance:            227,943,824 km (1.38 AU)\n",
       "Orbit Period:                  687 days (1.9 years)\n",
       "Surface Temperature:                   -87 to -5 °C\n",
       "First Record:                     2nd millennium BC\n",
       "Recorded By:                   Egyptian astronomers"
      ]
     },
     "execution_count": 15,
     "metadata": {},
     "output_type": "execute_result"
    }
   ],
   "source": [
    "# URL\n",
    "facts_url = 'https://space-facts.com/mars/'\n",
    "\n",
    "# Read html by Pandas\n",
    "tables = pd.read_html(facts_url)\n",
    "\n",
    "# Slice off dataframes that needed\n",
    "mars_df = tables[0]\n",
    "\n",
    "# Set columns\n",
    "mars_df.rename(columns={0:'', 1:'Mars'}, inplace=True)\n",
    "mars_df.set_index('', inplace=True)\n",
    "\n",
    "mars_df"
   ]
  },
  {
   "cell_type": "markdown",
   "metadata": {},
   "source": [
    "## Mars Hemispheres"
   ]
  },
  {
   "cell_type": "code",
   "execution_count": 16,
   "metadata": {},
   "outputs": [],
   "source": [
    "hem_list = ['Cerberus', 'Schiaparelli', 'Syrtis', 'Valles']\n",
    "hemisphere_image_urls = []\n",
    "\n",
    "for hem in hem_list:\n",
    "    # Visit URL\n",
    "    hem_url = 'https://astrogeology.usgs.gov/search/results?q=hemisphere+enhanced&k1=target&v1=Mars'\n",
    "    browser.visit(hem_url)\n",
    "    \n",
    "    # Find the hemisphere images and click\n",
    "    hem_elem = browser.links.find_by_partial_text(hem)\n",
    "    hem_elem.click()\n",
    "    \n",
    "    # Find original to download full img\n",
    "    hem_elem_org = browser.find_by_text(\"Original\", wait_time=1)\n",
    "    hem_elem_org.click()\n",
    "    \n",
    "    # Scrape the Mars website \n",
    "    hem_html = browser.html\n",
    "    hem_soup = bs(hem_html, 'html.parser')\n",
    "    \n",
    "    hem_title = hem_soup.h2.text\n",
    "    hem_link = hem_soup.find('li')\n",
    "    hem_url = hem_link.a['href']\n",
    "    \n",
    "    hem_dict = {\n",
    "        'title': hem_title,\n",
    "        'img_url': hem_url\n",
    "    }\n",
    "    \n",
    "    hemisphere_image_urls.append(hem_dict)"
   ]
  },
  {
   "cell_type": "code",
   "execution_count": null,
   "metadata": {},
   "outputs": [],
   "source": []
  }
 ],
 "metadata": {
  "kernelspec": {
   "display_name": "Python 3",
   "language": "python",
   "name": "python3"
  },
  "language_info": {
   "codemirror_mode": {
    "name": "ipython",
    "version": 3
   },
   "file_extension": ".py",
   "mimetype": "text/x-python",
   "name": "python",
   "nbconvert_exporter": "python",
   "pygments_lexer": "ipython3",
   "version": "3.6.10"
  }
 },
 "nbformat": 4,
 "nbformat_minor": 4
}
